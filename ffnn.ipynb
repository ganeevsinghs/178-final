{
 "cells": [
  {
   "cell_type": "code",
   "execution_count": 3,
   "id": "6ec6c789",
   "metadata": {},
   "outputs": [],
   "source": [
    "import pandas as pd\n",
    "import numpy as np\n",
    "from sklearn.model_selection import train_test_split, learning_curve\n",
    "from sklearn.metrics import classification_report, confusion_matrix\n",
    "import matplotlib.pyplot as plt\n",
    "from sklearn.preprocessing import StandardScaler\n",
    "from sklearn.neural_network import MLPClassifier\n",
    "from sklearn.metrics import accuracy_score"
   ]
  },
  {
   "cell_type": "code",
   "execution_count": 4,
   "id": "cda98ba9",
   "metadata": {},
   "outputs": [
    {
     "name": "stdout",
     "output_type": "stream",
     "text": [
      "Dataset shape after cleaning: (59129, 2163)\n"
     ]
    }
   ],
   "source": [
    "# Load the dataset\n",
    "df = pd.read_csv(\"data/diabetic_data.csv\")\n",
    "\n",
    "# Replace '?' with NaN\n",
    "df = df.replace('?', np.nan)\n",
    "\n",
    "# Keep only <30 and >30 for readmission\n",
    "df = df[df['readmitted'].isin(['<30', '>30', \"NO\"])]\n",
    "\n",
    "# Drop columns with more than 40% missing data\n",
    "missing_threshold = 0.4\n",
    "df = df.loc[:, df.isnull().mean() < missing_threshold]\n",
    "\n",
    "# Drop rows with missing values **only in the remaining columns**\n",
    "df = df.dropna()\n",
    "\n",
    "# Drop identifiers\n",
    "df = df.drop(['encounter_id', 'patient_nbr'], axis=1, errors='ignore')\n",
    "\n",
    "# One-hot encode categorical features\n",
    "categorical_cols = df.select_dtypes(include='object').columns.drop('readmitted')\n",
    "df = pd.get_dummies(df, columns=categorical_cols, drop_first=True)\n",
    "\n",
    "# Binary target: 1 if readmitted within 30 days\n",
    "df['readmitted'] = df['readmitted'].map({\n",
    "    \"NO\": 0,\n",
    "    \"<30\": 1,\n",
    "    \">30\": 2\n",
    "})\n",
    "\n",
    "print(f\"Dataset shape after cleaning: {df.shape}\")"
   ]
  },
  {
   "cell_type": "code",
   "execution_count": 5,
   "id": "7fa28c79",
   "metadata": {},
   "outputs": [],
   "source": [
    "# label encoding for the target variable\n",
    "X = df.drop(\"readmitted\", axis=1)\n",
    "y = df[\"readmitted\"]"
   ]
  },
  {
   "cell_type": "code",
   "execution_count": 6,
   "id": "6d1c96e0",
   "metadata": {},
   "outputs": [],
   "source": [
    "# Split the dataset into features and target variable\n",
    "X_temp, X_test, y_temp, y_test = train_test_split(X, y, test_size=0.2, random_state=13)\n",
    "\n",
    "# Further split the remaining data into training and validation sets\n",
    "X_train, X_val, y_train, y_val = train_test_split(X_temp, y_temp, test_size=0.25, random_state=13)"
   ]
  },
  {
   "cell_type": "code",
   "execution_count": 7,
   "id": "b298347d",
   "metadata": {},
   "outputs": [],
   "source": [
    "scaler = StandardScaler()\n",
    "X_tr_scaled = scaler.fit_transform(X_train)\n",
    "X_val_scaled = scaler.transform(X_val)\n",
    "X_te_scaled = scaler.transform(X_test)"
   ]
  },
  {
   "cell_type": "code",
   "execution_count": null,
   "id": "904b98c0",
   "metadata": {},
   "outputs": [],
   "source": [
    "# best_hyperparams = {\n",
    "#     'hidden_layer_sizes': (32,),\n",
    "#     'activation': 'relu',\n",
    "#     'solver': 'sgd',\n",
    "#     'alpha': 0.1,  # stronger L2 regularization\n",
    "#     'learning_rate': 'constant',\n",
    "#     'learning_rate_init': 0.01,\n",
    "#     'max_iter': 200,\n",
    "#     'n_iter_no_change': 20\n",
    "# }\n",
    "# Training accuracy:   0.9678\n",
    "# Validation accuracy: 0.6764\n",
    "# Test accuracy:       0.6838\n",
    "\n",
    "# best_hyperparams = {\n",
    "#     'hidden_layer_sizes': (64, 32),\n",
    "#     'activation': 'relu',\n",
    "#     'solver': 'sgd',\n",
    "#     'alpha': 0.01,\n",
    "#     'learning_rate': 'invscaling',\n",
    "#     'learning_rate_init': 0.01,\n",
    "#     'max_iter': 200,\n",
    "#     'n_iter_no_change': 20\n",
    "# }\n",
    "# Training accuracy:   0.7704\n",
    "# Validation accuracy: 0.7559\n",
    "# Test accuracy:       0.7660\n",
    "\n",
    "# best_hyperparams = {\n",
    "#     'hidden_layer_sizes': (64,),\n",
    "#     'activation': 'relu',\n",
    "#     'solver': 'adam',\n",
    "#     'alpha': 0.001,\n",
    "#     'learning_rate_init': 0.001,\n",
    "#     'max_iter': 200,\n",
    "#     'n_iter_no_change': 20\n",
    "# }\n",
    "# Training accuracy:   0.9959\n",
    "# Validation accuracy: 0.6799\n",
    "# Test accuracy:       0.6889\n",
    "\n",
    "# {\n",
    "#     'hidden_layer_sizes': (128, 64),\n",
    "#     'activation': 'tanh',\n",
    "#     'solver': 'sgd',\n",
    "#     'alpha': 0.1,\n",
    "#     'learning_rate': 'constant',\n",
    "#     'learning_rate_init': 0.01,\n",
    "#     'max_iter': 300,\n",
    "#     'n_iter_no_change': 20\n",
    "# }\n",
    "# Training accuracy:   0.9955\n",
    "# Validation accuracy: 0.6835\n",
    "# Test accuracy:       0.6988\n",
    "\n",
    "# {\n",
    "#     'hidden_layer_sizes': (64,),\n",
    "#     'activation': 'relu',\n",
    "#     'solver': 'sgd',\n",
    "#     'alpha': 0.01,\n",
    "#     'learning_rate': 'constant',\n",
    "#     'learning_rate_init': 0.001,\n",
    "#     'max_iter': 500,\n",
    "#     'n_iter_no_change': 30\n",
    "# }\n",
    "# Training accuracy:   0.9459\n",
    "# Validation accuracy: 0.4837\n",
    "# Test accuracy:       0.4836\n",
    "\n",
    "\n"
   ]
  },
  {
   "cell_type": "code",
   "execution_count": 11,
   "id": "c338f2e9",
   "metadata": {},
   "outputs": [],
   "source": [
    "best_hyperparams = {\n",
    "    'hidden_layer_sizes': (64,),\n",
    "    'activation': 'relu',\n",
    "    'solver': 'sgd',\n",
    "    'alpha': 0.01,\n",
    "    'learning_rate': 'constant',\n",
    "    'learning_rate_init': 0.001,\n",
    "    'max_iter': 200,\n",
    "    'n_iter_no_change': 30\n",
    "}\n",
    "\n",
    "\n"
   ]
  },
  {
   "cell_type": "code",
   "execution_count": 12,
   "id": "85e8303f",
   "metadata": {},
   "outputs": [
    {
     "name": "stderr",
     "output_type": "stream",
     "text": [
      "c:\\Users\\neelu\\AppData\\Local\\Programs\\Python\\Python313\\Lib\\site-packages\\sklearn\\neural_network\\_multilayer_perceptron.py:691: ConvergenceWarning: Stochastic Optimizer: Maximum iterations (200) reached and the optimization hasn't converged yet.\n",
      "  warnings.warn(\n"
     ]
    },
    {
     "name": "stdout",
     "output_type": "stream",
     "text": [
      "Training accuracy:   0.8873\n",
      "Validation accuracy: 0.5013\n",
      "Test accuracy:       0.4968\n",
      "\n",
      "Classification Report:\n",
      "              precision    recall  f1-score   support\n",
      "\n",
      "           0       0.58      0.64      0.61      6259\n",
      "           1       0.18      0.11      0.13      1282\n",
      "           2       0.42      0.41      0.41      4285\n",
      "\n",
      "    accuracy                           0.50     11826\n",
      "   macro avg       0.39      0.38      0.38     11826\n",
      "weighted avg       0.48      0.50      0.49     11826\n",
      "\n",
      "Confusion Matrix:\n",
      "[[3990  323 1946]\n",
      " [ 639  137  506]\n",
      " [2221  316 1748]]\n"
     ]
    }
   ],
   "source": [
    "mlp = MLPClassifier(**best_hyperparams, random_state=seed, verbose=False)\n",
    "mlp.fit(X_tr_scaled, y_train)\n",
    "\n",
    "# Step 4: Evaluate on train, val, and test sets\n",
    "train_acc = mlp.score(X_tr_scaled, y_train)\n",
    "val_acc = mlp.score(X_val_scaled, y_val)\n",
    "test_acc = mlp.score(X_te_scaled, y_test)\n",
    "\n",
    "print(f\"Training accuracy:   {train_acc:.4f}\")\n",
    "print(f\"Validation accuracy: {val_acc:.4f}\")\n",
    "print(f\"Test accuracy:       {test_acc:.4f}\")\n",
    "\n",
    "# Step 5: Classification report and confusion matrix\n",
    "y_pred = mlp.predict(X_te_scaled)\n",
    "print(\"\\nClassification Report:\")\n",
    "print(classification_report(y_test, y_pred))\n",
    "\n",
    "print(\"Confusion Matrix:\")\n",
    "print(confusion_matrix(y_test, y_pred))\n"
   ]
  }
 ],
 "metadata": {
  "kernelspec": {
   "display_name": "Python 3",
   "language": "python",
   "name": "python3"
  },
  "language_info": {
   "codemirror_mode": {
    "name": "ipython",
    "version": 3
   },
   "file_extension": ".py",
   "mimetype": "text/x-python",
   "name": "python",
   "nbconvert_exporter": "python",
   "pygments_lexer": "ipython3",
   "version": "3.13.2"
  }
 },
 "nbformat": 4,
 "nbformat_minor": 5
}
